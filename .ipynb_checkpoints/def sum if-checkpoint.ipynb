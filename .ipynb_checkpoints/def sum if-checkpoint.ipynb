{
 "cells": [
  {
   "cell_type": "code",
   "execution_count": 8,
   "metadata": {},
   "outputs": [
    {
     "name": "stdout",
     "output_type": "stream",
     "text": [
      "WARNING *** file size (38172077) not 512 + multiple of sector size (512)\n",
      "WARNING *** OLE2 inconsistency: SSCS size is 0 but SSAT size is non-zero\n"
     ]
    }
   ],
   "source": [
    "import pandas as pd\n",
    "import numpy as np\n",
    "dir_crimes = r'E:\\MEGA\\PMMG\\MySql\\10 - Tbl_dimensao\\gdo\\tbl_base_GDO_2020.xls'#Home\n",
    "#dir_crimes = r'C:\\Users\\Geo\\Documents\\MEGAsync\\MySql\\10 - Tbl_dimensao\\gdo\\tbl_base_GDO_2020.xls'#Office\n",
    "df_crimes = pd.read_excel(dir_crimes, sheet_name='tbl_crimes')\n",
    "\n",
    "dir_classif = r'E:\\MEGA\\PMMG\\MySql\\10 - Tbl_dimensao\\validadores\\tbl_classificadores.xlsx'#Home\n",
    "#dir_classif = r'C:\\Users\\Geo\\Documents\\MEGAsync\\MySql\\10 - Tbl_dimensao\\validadores\\tbl_classificadores.xlsx'#Office\n",
    "df_classif  = pd.read_excel(dir_classif, sheet_name='tbl_classificadores')"
   ]
  },
  {
   "cell_type": "code",
   "execution_count": 9,
   "metadata": {},
   "outputs": [
    {
     "data": {
      "text/plain": [
       "Index(['Número REDS', 'Órgão Unidade Registro', 'Unidade Área Militar',\n",
       "       'Unidade Relato Nível 6', 'Unid Digitação Nível 6',\n",
       "       'Unid Registro Nível 6', 'Código Subclasse Nat Principal',\n",
       "       'Tentado/Consumado Nat Principal', 'Código Subclasse Nat Sec1',\n",
       "       'Tentado/Consumado Nat Sec1', 'Código Subclasse Nat Sec2',\n",
       "       'Tentado/Consumado Nat Sec2', 'Código Subclasse Nat Sec3',\n",
       "       'Tentado/Consumado Nat Sec3', 'ALVO', 'Descrição Meio Utilizado',\n",
       "       'Data Comunicação Fato', 'Horário Comunicação Fato', 'Data Fato',\n",
       "       'Horário Fato', 'Data Última Atualização',\n",
       "       'Logradouro Ocorrência - Tipo', 'Logradouro Ocorrência',\n",
       "       'Logradouro Ocorrência Não Cadastrado', 'Logradouro Cruzamento',\n",
       "       'Logradouro Cruzamento Não Cadastrado', 'Número Logradouro', 'Bairro',\n",
       "       'Bairro Não Cadastrado', 'Complemento Endereço', 'Ponto de Referência',\n",
       "       'Município', 'Latitude', 'Longitude', 'Matrícula Digitador',\n",
       "       'Matrícula Relator', 'Qtde Ocorrências'],\n",
       "      dtype='object')"
      ]
     },
     "execution_count": 9,
     "metadata": {},
     "output_type": "execute_result"
    }
   ],
   "source": [
    "df_crimes.columns\n"
   ]
  },
  {
   "cell_type": "code",
   "execution_count": 78,
   "metadata": {
    "scrolled": true
   },
   "outputs": [
    {
     "data": {
      "text/html": [
       "<div>\n",
       "<style scoped>\n",
       "    .dataframe tbody tr th:only-of-type {\n",
       "        vertical-align: middle;\n",
       "    }\n",
       "\n",
       "    .dataframe tbody tr th {\n",
       "        vertical-align: top;\n",
       "    }\n",
       "\n",
       "    .dataframe thead th {\n",
       "        text-align: right;\n",
       "    }\n",
       "</style>\n",
       "<table border=\"1\" class=\"dataframe\">\n",
       "  <thead>\n",
       "    <tr style=\"text-align: right;\">\n",
       "      <th></th>\n",
       "      <th>ROUBO</th>\n",
       "      <th>FURTO</th>\n",
       "    </tr>\n",
       "    <tr>\n",
       "      <th>Município</th>\n",
       "      <th></th>\n",
       "      <th></th>\n",
       "    </tr>\n",
       "  </thead>\n",
       "  <tbody>\n",
       "    <tr>\n",
       "      <th>ABAETE</th>\n",
       "      <td>61.0</td>\n",
       "      <td>NaN</td>\n",
       "    </tr>\n",
       "    <tr>\n",
       "      <th>ARAUJOS</th>\n",
       "      <td>65.0</td>\n",
       "      <td>NaN</td>\n",
       "    </tr>\n",
       "    <tr>\n",
       "      <th>ARCOS</th>\n",
       "      <td>36.0</td>\n",
       "      <td>NaN</td>\n",
       "    </tr>\n",
       "    <tr>\n",
       "      <th>BAMBUI</th>\n",
       "      <td>61.0</td>\n",
       "      <td>NaN</td>\n",
       "    </tr>\n",
       "    <tr>\n",
       "      <th>BIQUINHAS</th>\n",
       "      <td>10.0</td>\n",
       "      <td>NaN</td>\n",
       "    </tr>\n",
       "    <tr>\n",
       "      <th>...</th>\n",
       "      <td>...</td>\n",
       "      <td>...</td>\n",
       "    </tr>\n",
       "    <tr>\n",
       "      <th>SAO GONCALO DO PARA</th>\n",
       "      <td>NaN</td>\n",
       "      <td>400.0</td>\n",
       "    </tr>\n",
       "    <tr>\n",
       "      <th>SAO JOSE DA VARGINHA</th>\n",
       "      <td>NaN</td>\n",
       "      <td>115.0</td>\n",
       "    </tr>\n",
       "    <tr>\n",
       "      <th>SAO SEBASTIAO DO OESTE</th>\n",
       "      <td>NaN</td>\n",
       "      <td>232.0</td>\n",
       "    </tr>\n",
       "    <tr>\n",
       "      <th>SERRA DA SAUDADE</th>\n",
       "      <td>NaN</td>\n",
       "      <td>13.0</td>\n",
       "    </tr>\n",
       "    <tr>\n",
       "      <th>TAPIRAI</th>\n",
       "      <td>NaN</td>\n",
       "      <td>20.0</td>\n",
       "    </tr>\n",
       "  </tbody>\n",
       "</table>\n",
       "<p>98 rows × 2 columns</p>\n",
       "</div>"
      ],
      "text/plain": [
       "                        ROUBO  FURTO\n",
       "Município                           \n",
       "ABAETE                   61.0    NaN\n",
       "ARAUJOS                  65.0    NaN\n",
       "ARCOS                    36.0    NaN\n",
       "BAMBUI                   61.0    NaN\n",
       "BIQUINHAS                10.0    NaN\n",
       "...                       ...    ...\n",
       "SAO GONCALO DO PARA       NaN  400.0\n",
       "SAO JOSE DA VARGINHA      NaN  115.0\n",
       "SAO SEBASTIAO DO OESTE    NaN  232.0\n",
       "SERRA DA SAUDADE          NaN   13.0\n",
       "TAPIRAI                   NaN   20.0\n",
       "\n",
       "[98 rows x 2 columns]"
      ]
     },
     "execution_count": 78,
     "metadata": {},
     "output_type": "execute_result"
    }
   ],
   "source": [
    "df['ROUBO'] = df_crimes[df_crimes['Código Subclasse Nat Principal'] == 'C01157'].groupby('Município')['Qtde Ocorrências'].sum()\n",
    "\n",
    "df['FURTO'] = df_crimes[df_crimes['Código Subclasse Nat Principal'] == 'C01155'].groupby('Município')['Qtde Ocorrências'].sum()\n",
    "df\n",
    "# df2= pd.DataFrame(columns = {})\n",
    "# df2['ocorr'] = df_crimes.groupby(['Município'])['Qtde Ocorrências'].sum().reset_index()\n",
    "df_crimes[df_crimes['Código Subclasse Nat Principal'] == 'C01155'].groupby('Município')['Qtde Ocorrências'].sum()\n",
    "\n",
    "df1 = df_crimes[df_crimes['Código Subclasse Nat Principal'] == 'C01157'].groupby('Município', as_index=True).agg({'Qtde Ocorrências': \"sum\"}).rename(columns={'Qtde Ocorrências':'ROUBO'})\n",
    "df2 = df_crimes[df_crimes['Código Subclasse Nat Principal'] == 'C01155'].groupby('Município', as_index=True).agg({'Qtde Ocorrências': \"sum\"}).rename(columns={'Qtde Ocorrências':'FURTO'})\n",
    "\n",
    "dff = pd.concat([df1, df2])\n",
    "dff\n"
   ]
  },
  {
   "cell_type": "code",
   "execution_count": 33,
   "metadata": {},
   "outputs": [
    {
     "data": {
      "text/plain": [
       "0.0"
      ]
     },
     "execution_count": 33,
     "metadata": {},
     "output_type": "execute_result"
    }
   ],
   "source": [
    "#df_crimes.loc[df_crimes['Código Subclasse Nat Principal'] == 'C01155'].sum()\n",
    "df_crimes[df_crimes['Código Subclasse Nat Principal'] == 'C01154'].sum()['Qtde Ocorrências']"
   ]
  },
  {
   "cell_type": "code",
   "execution_count": 21,
   "metadata": {},
   "outputs": [
    {
     "data": {
      "text/plain": [
       "Número REDS                             52599\n",
       "Órgão Unidade Registro                  52599\n",
       "Unidade Área Militar                    52599\n",
       "Unidade Relato Nível 6                  52599\n",
       "Unid Digitação Nível 6                  52599\n",
       "Unid Registro Nível 6                   52599\n",
       "Código Subclasse Nat Principal          52599\n",
       "Tentado/Consumado Nat Principal         52599\n",
       "Código Subclasse Nat Sec1               52599\n",
       "Tentado/Consumado Nat Sec1              52599\n",
       "Código Subclasse Nat Sec2               52599\n",
       "Tentado/Consumado Nat Sec2              52599\n",
       "Código Subclasse Nat Sec3               52599\n",
       "Tentado/Consumado Nat Sec3              52599\n",
       "ALVO                                    52599\n",
       "Descrição Meio Utilizado                52599\n",
       "Data Comunicação Fato                   52599\n",
       "Horário Comunicação Fato                52206\n",
       "Data Fato                               52599\n",
       "Horário Fato                            52599\n",
       "Data Última Atualização                 52599\n",
       "Logradouro Ocorrência - Tipo            52599\n",
       "Logradouro Ocorrência                   52599\n",
       "Logradouro Ocorrência Não Cadastrado    10147\n",
       "Logradouro Cruzamento                   52599\n",
       "Logradouro Cruzamento Não Cadastrado       24\n",
       "Número Logradouro                       50523\n",
       "Bairro                                  52599\n",
       "Bairro Não Cadastrado                   10201\n",
       "Complemento Endereço                     5021\n",
       "Ponto de Referência                      7146\n",
       "Município                               52599\n",
       "Latitude                                44354\n",
       "Longitude                               44353\n",
       "Matrícula Digitador                     52599\n",
       "Matrícula Relator                       52599\n",
       "Qtde Ocorrências                        52599\n",
       "dtype: int64"
      ]
     },
     "execution_count": 21,
     "metadata": {},
     "output_type": "execute_result"
    }
   ],
   "source": [
    "df_crimes.count()"
   ]
  }
 ],
 "metadata": {
  "kernelspec": {
   "display_name": "Python 3",
   "language": "python",
   "name": "python3"
  },
  "language_info": {
   "codemirror_mode": {
    "name": "ipython",
    "version": 3
   },
   "file_extension": ".py",
   "mimetype": "text/x-python",
   "name": "python",
   "nbconvert_exporter": "python",
   "pygments_lexer": "ipython3",
   "version": "3.7.6"
  }
 },
 "nbformat": 4,
 "nbformat_minor": 4
}
