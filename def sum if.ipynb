{
 "cells": [
  {
   "cell_type": "code",
   "execution_count": 1,
   "metadata": {},
   "outputs": [
    {
     "name": "stdout",
     "output_type": "stream",
     "text": [
      "WARNING *** file size (38246433) not 512 + multiple of sector size (512)\n",
      "WARNING *** OLE2 inconsistency: SSCS size is 0 but SSAT size is non-zero\n"
     ]
    }
   ],
   "source": [
    "import pandas as pd\n",
    "import numpy as np\n",
    "dir_crimes = r'E:\\MEGA\\PMMG\\MySql\\10 - Tbl_dimensao\\gdo\\tbl_base_GDO_2020.xls'#Home\n",
    "#dir_crimes = r'C:\\Users\\Geo\\Documents\\MEGAsync\\MySql\\10 - Tbl_dimensao\\gdo\\tbl_base_GDO_2020.xls'#Office\n",
    "df_crimes = pd.read_excel(dir_crimes, sheet_name='tbl_crimes')\n",
    "\n",
    "dir_classif = r'E:\\MEGA\\PMMG\\MySql\\10 - Tbl_dimensao\\validadores\\tbl_classificadores.xlsx'#Home\n",
    "#dir_classif = r'C:\\Users\\Geo\\Documents\\MEGAsync\\MySql\\10 - Tbl_dimensao\\validadores\\tbl_classificadores.xlsx'#Office\n",
    "df_classif  = pd.read_excel(dir_classif, sheet_name='tbl_classificadores')"
   ]
  },
  {
   "cell_type": "code",
   "execution_count": 2,
   "metadata": {},
   "outputs": [
    {
     "data": {
      "text/plain": [
       "Index(['Número REDS', 'Órgão Unidade Registro', 'Unidade Área Militar',\n",
       "       'Unidade Relato Nível 6', 'Unid Digitação Nível 6',\n",
       "       'Unid Registro Nível 6', 'Código Subclasse Nat Principal',\n",
       "       'Tentado/Consumado Nat Principal', 'Código Subclasse Nat Sec1',\n",
       "       'Tentado/Consumado Nat Sec1', 'Código Subclasse Nat Sec2',\n",
       "       'Tentado/Consumado Nat Sec2', 'Código Subclasse Nat Sec3',\n",
       "       'Tentado/Consumado Nat Sec3', 'ALVO', 'Descrição Meio Utilizado',\n",
       "       'Data Comunicação Fato', 'Horário Comunicação Fato', 'Data Fato',\n",
       "       'Horário Fato', 'Data Última Atualização',\n",
       "       'Logradouro Ocorrência - Tipo', 'Logradouro Ocorrência',\n",
       "       'Logradouro Ocorrência Não Cadastrado', 'Logradouro Cruzamento',\n",
       "       'Logradouro Cruzamento Não Cadastrado', 'Número Logradouro', 'Bairro',\n",
       "       'Bairro Não Cadastrado', 'Complemento Endereço', 'Ponto de Referência',\n",
       "       'Município', 'Latitude', 'Longitude', 'Matrícula Digitador',\n",
       "       'Matrícula Relator', 'Qtde Ocorrências'],\n",
       "      dtype='object')"
      ]
     },
     "execution_count": 2,
     "metadata": {},
     "output_type": "execute_result"
    }
   ],
   "source": [
    "df_crimes.columns\n"
   ]
  },
  {
   "cell_type": "code",
   "execution_count": 11,
   "metadata": {},
   "outputs": [
    {
     "ename": "ValueError",
     "evalue": "The truth value of a DataFrame is ambiguous. Use a.empty, a.bool(), a.item(), a.any() or a.all().",
     "output_type": "error",
     "traceback": [
      "\u001b[1;31m---------------------------------------------------------------------------\u001b[0m",
      "\u001b[1;31mValueError\u001b[0m                                Traceback (most recent call last)",
      "\u001b[1;32m<ipython-input-11-e93465fee2be>\u001b[0m in \u001b[0;36m<module>\u001b[1;34m\u001b[0m\n\u001b[1;32m----> 1\u001b[1;33m \u001b[1;32mif\u001b[0m \u001b[1;33m(\u001b[0m\u001b[0mdf_crimes\u001b[0m\u001b[1;33m[\u001b[0m\u001b[0mdf_crimes\u001b[0m\u001b[1;33m[\u001b[0m\u001b[1;34m'Código Subclasse Nat Principal'\u001b[0m\u001b[1;33m]\u001b[0m \u001b[1;33m==\u001b[0m \u001b[1;34m'C01157'\u001b[0m\u001b[1;33m]\u001b[0m\u001b[1;33m)\u001b[0m\u001b[1;33m:\u001b[0m\u001b[1;33m\u001b[0m\u001b[1;33m\u001b[0m\u001b[0m\n\u001b[0m\u001b[0;32m      2\u001b[0m     \u001b[0mdf_crimes\u001b[0m\u001b[1;33m[\u001b[0m\u001b[1;34m'var'\u001b[0m\u001b[1;33m]\u001b[0m\u001b[1;33m=\u001b[0m \u001b[1;36m1\u001b[0m\u001b[1;33m\u001b[0m\u001b[1;33m\u001b[0m\u001b[0m\n\u001b[0;32m      3\u001b[0m \u001b[1;32melse\u001b[0m\u001b[1;33m:\u001b[0m\u001b[1;33m\u001b[0m\u001b[1;33m\u001b[0m\u001b[0m\n\u001b[0;32m      4\u001b[0m     \u001b[0mdf_crimes\u001b[0m\u001b[1;33m[\u001b[0m\u001b[1;34m'var'\u001b[0m\u001b[1;33m]\u001b[0m\u001b[1;33m=\u001b[0m \u001b[1;36m0\u001b[0m\u001b[1;33m\u001b[0m\u001b[1;33m\u001b[0m\u001b[0m\n",
      "\u001b[1;32mC:\\ProgramData\\Anaconda3\\lib\\site-packages\\pandas\\core\\generic.py\u001b[0m in \u001b[0;36m__nonzero__\u001b[1;34m(self)\u001b[0m\n\u001b[0;32m   1477\u001b[0m     \u001b[1;32mdef\u001b[0m \u001b[0m__nonzero__\u001b[0m\u001b[1;33m(\u001b[0m\u001b[0mself\u001b[0m\u001b[1;33m)\u001b[0m\u001b[1;33m:\u001b[0m\u001b[1;33m\u001b[0m\u001b[1;33m\u001b[0m\u001b[0m\n\u001b[0;32m   1478\u001b[0m         raise ValueError(\n\u001b[1;32m-> 1479\u001b[1;33m             \u001b[1;34mf\"The truth value of a {type(self).__name__} is ambiguous. \"\u001b[0m\u001b[1;33m\u001b[0m\u001b[1;33m\u001b[0m\u001b[0m\n\u001b[0m\u001b[0;32m   1480\u001b[0m             \u001b[1;34m\"Use a.empty, a.bool(), a.item(), a.any() or a.all().\"\u001b[0m\u001b[1;33m\u001b[0m\u001b[1;33m\u001b[0m\u001b[0m\n\u001b[0;32m   1481\u001b[0m         )\n",
      "\u001b[1;31mValueError\u001b[0m: The truth value of a DataFrame is ambiguous. Use a.empty, a.bool(), a.item(), a.any() or a.all()."
     ]
    }
   ],
   "source": [
    "   \n",
    "if (df_crimes[df_crimes['Código Subclasse Nat Principal'] == 'C01157']):\n",
    "    df_crimes['var']= 1\n",
    "else:\n",
    "    df_crimes['var']= 0"
   ]
  }
 ],
 "metadata": {
  "kernelspec": {
   "display_name": "Python 3",
   "language": "python",
   "name": "python3"
  },
  "language_info": {
   "codemirror_mode": {
    "name": "ipython",
    "version": 3
   },
   "file_extension": ".py",
   "mimetype": "text/x-python",
   "name": "python",
   "nbconvert_exporter": "python",
   "pygments_lexer": "ipython3",
   "version": "3.7.6"
  }
 },
 "nbformat": 4,
 "nbformat_minor": 4
}
