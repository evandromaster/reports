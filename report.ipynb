{
 "cells": [
  {
   "cell_type": "code",
   "execution_count": 1,
   "metadata": {},
   "outputs": [
    {
     "data": {
      "text/plain": [
       "Index(['NREDS', 'COD_DIAO', 'T_C', 'COD_DIAO1', 'COD_DIAO2', 'COD_DIAO3',\n",
       "       'DATA_FATO', 'MUNICIPIO', 'CIA', 'UEOP', 'QTDE'],\n",
       "      dtype='object')"
      ]
     },
     "execution_count": 1,
     "metadata": {},
     "output_type": "execute_result"
    }
   ],
   "source": [
    "# importação da biliotecas e leitura do banco de dados\n",
    "import pandas as pd\n",
    "import numpy as np\n",
    "from datetime import datetime, timedelta\n",
    "import datetime\n",
    "import pendulum\n",
    "df_ocorrencias = pd.read_sql_table('tbl_crimes', 'sqlite:///gdo.db',\n",
    "                       columns =['NREDS', 'COD_DIAO', 'T_C', 'COD_DIAO1','COD_DIAO2','COD_DIAO3','DATA_FATO', 'MUNICIPIO',\n",
    "                                 'CIA', 'UEOP', 'QTDE'])\n",
    "df_ocorrencias.columns\n"
   ]
  },
  {
   "cell_type": "code",
   "execution_count": 2,
   "metadata": {},
   "outputs": [
    {
     "ename": "AttributeError",
     "evalue": "module 'datetime' has no attribute 'today'",
     "output_type": "error",
     "traceback": [
      "\u001b[1;31m---------------------------------------------------------------------------\u001b[0m",
      "\u001b[1;31mAttributeError\u001b[0m                            Traceback (most recent call last)",
      "\u001b[1;32m<ipython-input-2-56704baf710a>\u001b[0m in \u001b[0;36m<module>\u001b[1;34m\u001b[0m\n\u001b[0;32m     11\u001b[0m \u001b[1;33m\u001b[0m\u001b[0m\n\u001b[0;32m     12\u001b[0m \u001b[1;31m#mês corrente 2019\u001b[0m\u001b[1;33m\u001b[0m\u001b[1;33m\u001b[0m\u001b[1;33m\u001b[0m\u001b[0m\n\u001b[1;32m---> 13\u001b[1;33m \u001b[0mdate_init_before_month\u001b[0m \u001b[1;33m=\u001b[0m \u001b[0mpendulum\u001b[0m\u001b[1;33m.\u001b[0m\u001b[0mnow\u001b[0m\u001b[1;33m(\u001b[0m\u001b[1;33m)\u001b[0m\u001b[1;33m.\u001b[0m\u001b[0msubtract\u001b[0m\u001b[1;33m(\u001b[0m\u001b[0myears\u001b[0m\u001b[1;33m=\u001b[0m\u001b[1;36m1\u001b[0m\u001b[1;33m,\u001b[0m \u001b[0mdays\u001b[0m\u001b[1;33m=\u001b[0m\u001b[1;33m(\u001b[0m\u001b[0mdatetime\u001b[0m\u001b[1;33m.\u001b[0m\u001b[0mtoday\u001b[0m\u001b[1;33m(\u001b[0m\u001b[1;33m)\u001b[0m \u001b[1;33m-\u001b[0m \u001b[0mtimedelta\u001b[0m\u001b[1;33m(\u001b[0m\u001b[0mdays\u001b[0m\u001b[1;33m=\u001b[0m\u001b[1;36m1\u001b[0m\u001b[1;33m)\u001b[0m\u001b[1;33m)\u001b[0m\u001b[1;33m.\u001b[0m\u001b[0mday\u001b[0m\u001b[1;33m)\u001b[0m\u001b[1;33m.\u001b[0m\u001b[0mstrftime\u001b[0m\u001b[1;33m(\u001b[0m\u001b[1;34m'%Y-%m-%d'\u001b[0m\u001b[1;33m)\u001b[0m\u001b[1;33m\u001b[0m\u001b[1;33m\u001b[0m\u001b[0m\n\u001b[0m\u001b[0;32m     14\u001b[0m \u001b[0mdate_init_actual_month\u001b[0m \u001b[1;33m=\u001b[0m \u001b[0mpendulum\u001b[0m\u001b[1;33m.\u001b[0m\u001b[0mnow\u001b[0m\u001b[1;33m(\u001b[0m\u001b[1;33m)\u001b[0m\u001b[1;33m.\u001b[0m\u001b[0msubtract\u001b[0m\u001b[1;33m(\u001b[0m\u001b[0mdays\u001b[0m\u001b[1;33m=\u001b[0m\u001b[1;33m(\u001b[0m\u001b[0mdatetime\u001b[0m\u001b[1;33m.\u001b[0m\u001b[0mtoday\u001b[0m\u001b[1;33m(\u001b[0m\u001b[1;33m)\u001b[0m \u001b[1;33m-\u001b[0m \u001b[0mtimedelta\u001b[0m\u001b[1;33m(\u001b[0m\u001b[0mdays\u001b[0m\u001b[1;33m=\u001b[0m\u001b[1;36m1\u001b[0m\u001b[1;33m)\u001b[0m\u001b[1;33m)\u001b[0m\u001b[1;33m.\u001b[0m\u001b[0mday\u001b[0m\u001b[1;33m)\u001b[0m\u001b[1;33m.\u001b[0m\u001b[0mstrftime\u001b[0m\u001b[1;33m(\u001b[0m\u001b[1;34m'%Y-%m-%d'\u001b[0m\u001b[1;33m)\u001b[0m\u001b[1;33m\u001b[0m\u001b[1;33m\u001b[0m\u001b[0m\n\u001b[0;32m     15\u001b[0m \u001b[1;33m\u001b[0m\u001b[0m\n",
      "\u001b[1;31mAttributeError\u001b[0m: module 'datetime' has no attribute 'today'"
     ]
    }
   ],
   "source": [
    "# definição das datas limites na  automação do código\n",
    "#3 dias  anteriores 2019\n",
    "date_ende_before_3 = pendulum.now().subtract(years=1, days=3).strftime('%Y-%m-%d')\n",
    "date_ende_before_2 = pendulum.now().subtract(years=1, days=2).strftime('%Y-%m-%d')\n",
    "date_ende_before_1 = pendulum.now().subtract(years=1, days=1).strftime('%Y-%m-%d')\n",
    "\n",
    "#3 dias  anteriores 2020\n",
    "date_ende_actual_3 = pendulum.now().subtract(days=3).strftime('%Y-%m-%d')\n",
    "date_ende_actual_2 = pendulum.now().subtract(days=2).strftime('%Y-%m-%d')\n",
    "date_ende_actual_1 = pendulum.now().subtract(days=1).strftime('%Y-%m-%d')\n",
    "\n",
    "#mês corrente 2019\n",
    "date_init_before_month = pendulum.now().subtract(years=1, days=(datetime.today() - timedelta(days=1)).day).strftime('%Y-%m-%d')\n",
    "date_init_actual_month = pendulum.now().subtract(days=(datetime.today() - timedelta(days=1)).day).strftime('%Y-%m-%d')\n",
    "\n",
    "#ano\n",
    "date_init_before = pendulum.now().subtract(years=1, months=(datetime.today() - timedelta(days=1)).month-1, days=(datetime.today() - timedelta(days=1)).day).strftime('%Y-%m-%d')\n",
    "date_init_actual = pendulum.now().subtract(months=(datetime.today() - timedelta(days=1)).month-1, days=(datetime.today() - timedelta(days=1)).day).strftime('%Y-%m-%d')\n"
   ]
  },
  {
   "cell_type": "code",
   "execution_count": null,
   "metadata": {},
   "outputs": [],
   "source": []
  },
  {
   "cell_type": "code",
   "execution_count": null,
   "metadata": {},
   "outputs": [],
   "source": [
    "#promove o nome dos cabeçalhos par maiusculo e retira os espaços\n",
    "def columns():\n",
    "    for df in [df_ocorrencias]:\n",
    "        df.columns = df.columns.str.replace(' ', '_')\n",
    "        df.columns = df.columns.str.upper()\n",
    "columns()"
   ]
  },
  {
   "cell_type": "code",
   "execution_count": null,
   "metadata": {},
   "outputs": [],
   "source": [
    "df_roubos = df_ocorrencias[(df_ocorrencias['COD_DIAO'] == 'C01157') \n",
    "                            | \n",
    "                           (df_ocorrencias['COD_DIAO1'] == 'C01157')\n",
    "                            |\n",
    "                           (df_ocorrencias['COD_DIAO2'] == 'C01157')\n",
    "                            |\n",
    "                           (df_ocorrencias['COD_DIAO3'] == 'C01157')\n",
    "                          ]"
   ]
  },
  {
   "cell_type": "code",
   "execution_count": null,
   "metadata": {},
   "outputs": [],
   "source": [
    "%time\n",
    "\n",
    "dia_3_2019 = 'Dia ' + pendulum.now().subtract(years=1, days=3).strftime('%d-%Y')\n",
    "dia_2_2019 = 'Dia ' + pendulum.now().subtract(years=1, days=2).strftime('%d-%Y')\n",
    "dia_1_2019 = 'Dia ' + pendulum.now().subtract(years=1, days=1).strftime('%d-%Y')\n",
    "\n",
    "dia_3_2020 = 'Dia ' + pendulum.now().subtract(days=3).strftime('%d-%Y')\n",
    "dia_2_2020 = 'Dia ' + pendulum.now().subtract(days=2).strftime('%d-%Y')\n",
    "dia_1_2020 = 'Dia ' + pendulum.now().subtract(days=1).strftime('%d-%Y')\n",
    "\n",
    "mes_2019 = 'Mês ' + pendulum.now().strftime('%m-%Y')\n",
    "mes_2020 = 'Mês ' + pendulum.now().strftime('%m-%Y')\n",
    "\n",
    "ano_2019 = 'Ano ' + pendulum.now().subtract(years=1).strftime('%Y')\n",
    "ano_2020 = 'Ano ' + pendulum.now().strftime('%Y')\n",
    "\n",
    "dia_2_2020"
   ]
  },
  {
   "cell_type": "code",
   "execution_count": null,
   "metadata": {},
   "outputs": [],
   "source": [
    "#df_day_3_2019 = df_roubos.loc[df_roubos['DATA_FATO'] == date_ende_before_3].groupby('UEOP', 'MUNICIPIO', as_index=True).agg({'QTDE': \"sum\"}).rename(columns={'QTDE':dia_3_2019})\n",
    "\n",
    "df_roubos.groupby(['UEOP', 'CIA', 'MUNICIPIO']).size()"
   ]
  },
  {
   "cell_type": "code",
   "execution_count": null,
   "metadata": {
    "scrolled": true
   },
   "outputs": [],
   "source": [
    "#comparação 3 dias anteriores\n",
    "df_day_3_2019 = df_roubos.loc[df_roubos['DATA_FATO'] == date_ende_before_3].groupby(['UEOP', 'CIA', 'MUNICIPIO'], as_index=True).agg({'QTDE': \"sum\"}).rename(columns={'QTDE':dia_3_2019})\n",
    "df_day_2_2019 = df_roubos.loc[df_roubos['DATA_FATO'] == date_ende_before_2].groupby(['UEOP', 'CIA', 'MUNICIPIO'], as_index=True).agg({'QTDE': \"sum\"}).rename(columns={'QTDE':dia_2_2019})\n",
    "df_day_1_2019 = df_roubos.loc[df_roubos['DATA_FATO'] == date_ende_before_1].groupby(['UEOP', 'CIA', 'MUNICIPIO'], as_index=True).agg({'QTDE': \"sum\"}).rename(columns={'QTDE':dia_1_2019})\n",
    "\n",
    "df_day_3_2020 = df_roubos.loc[df_roubos['DATA_FATO'] == date_ende_actual_3].groupby(['UEOP', 'CIA', 'MUNICIPIO'], as_index=True).agg({'QTDE': \"sum\"}).rename(columns={'QTDE':dia_3_2020})\n",
    "df_day_2_2020 = df_roubos.loc[df_roubos['DATA_FATO'] == date_ende_actual_2].groupby(['UEOP', 'CIA', 'MUNICIPIO'], as_index=True).agg({'QTDE': \"sum\"}).rename(columns={'QTDE':dia_2_2020})\n",
    "df_day_1_2020 = df_roubos.loc[df_roubos['DATA_FATO'] == date_ende_actual_1].groupby(['UEOP', 'CIA', 'MUNICIPIO'], as_index=True).agg({'QTDE': \"sum\"}).rename(columns={'QTDE':dia_1_2020})\n",
    "\n",
    "# comparação menssal\n",
    "df_month_2019 = df_roubos.loc[(df_roubos['DATA_FATO']>=date_init_before_month) & (df_roubos['DATA_FATO']<=date_ende_before_1)].groupby(['UEOP', 'CIA', 'MUNICIPIO'], as_index=True).agg({'QTDE': \"sum\"}).rename(columns={'QTDE':mes_2019})\n",
    "df_month_2020 = df_roubos.loc[(df_roubos['DATA_FATO']>=date_init_actual_month) & (df_roubos['DATA_FATO']<=date_ende_actual_1)].groupby(['UEOP', 'CIA', 'MUNICIPIO'], as_index=True).agg({'QTDE': \"sum\"}).rename(columns={'QTDE':mes_2020})\n",
    "\n",
    "#comparação anual\n",
    "\n",
    "df_year_2019 = df_roubos.loc[(df_roubos['DATA_FATO']>=date_init_before) & (df_roubos['DATA_FATO']<=date_ende_before_1)].groupby(['UEOP', 'CIA', 'MUNICIPIO'], as_index=True).agg({'QTDE': \"sum\"}).rename(columns={'QTDE':ano_2019})\n",
    "df_year_2020 = df_roubos.loc[(df_roubos['DATA_FATO']>=date_init_actual) & (df_roubos['DATA_FATO']<=date_ende_actual_1)].groupby(['UEOP', 'CIA', 'MUNICIPIO'], as_index=True).agg({'QTDE': \"sum\"}).rename(columns={'QTDE':ano_2020})\n",
    "\n",
    "\n",
    "#resultado\n",
    "\n",
    "df_roubos_result = pd.concat([df_day_3_2019, df_day_3_2020, \n",
    "                              df_day_2_2019, df_day_2_2020, \n",
    "                              df_day_1_2019, df_day_1_2020,\n",
    "                              df_month_2019, df_month_2020,\n",
    "                              df_year_2019, df_year_2020\n",
    "                             ],axis=1)\\\n",
    ".fillna(0)\\\n",
    ".astype('int')\\\n",
    ".sort_index(ascending=True)\n",
    "\n",
    "\n",
    "\n",
    "df_day_1_2020.sum()\n",
    "df_roubos_result"
   ]
  },
  {
   "cell_type": "code",
   "execution_count": null,
   "metadata": {},
   "outputs": [],
   "source": [
    "#result = r\"C:\\Users\\Luísa\\Desktop\\df_anuncio_roubos.xlsx\" \n",
    "result = r\"C:\\Users\\Geo\\Desktop\\df_anuncio_roubos.xlsx\" \n",
    "with pd.ExcelWriter(result) as save:\n",
    "    df_roubos_result.to_excel(save, sheet_name='roubos')\n",
    "    "
   ]
  },
  {
   "cell_type": "code",
   "execution_count": null,
   "metadata": {},
   "outputs": [],
   "source": [
    "from openpyxl import load_workbook\n",
    "\n",
    "\n",
    "#book = load_workbook(result)\n",
    "writer = pd.ExcelWriter(result, engine = 'openpyxl')\n",
    "writer.book = book\n",
    "\n",
    "\n",
    "\n",
    "df_roubos_result.to_excel(writer, sheet_name = 'roubos_diario')\n",
    "#df4.to_excel(writer, sheet_name = 'x6')\n",
    "writer.save()\n",
    "writer.close()"
   ]
  },
  {
   "cell_type": "code",
   "execution_count": null,
   "metadata": {},
   "outputs": [],
   "source": []
  }
 ],
 "metadata": {
  "kernelspec": {
   "display_name": "Python 3",
   "language": "python",
   "name": "python3"
  },
  "language_info": {
   "codemirror_mode": {
    "name": "ipython",
    "version": 3
   },
   "file_extension": ".py",
   "mimetype": "text/x-python",
   "name": "python",
   "nbconvert_exporter": "python",
   "pygments_lexer": "ipython3",
   "version": "3.7.7"
  }
 },
 "nbformat": 4,
 "nbformat_minor": 4
}
